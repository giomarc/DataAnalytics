{
 "cells": [
  {
   "cell_type": "markdown",
   "metadata": {},
   "source": [
    "# Bootstrap Mean Testing\n",
    "\n",
    "*Pranav Shah*\n",
    "\n",
    "## Introduction\n",
    "\n",
    "In last week's assignment we looked at hypothesis testing stratified means of prices for automobiles. A limitation of the dataset last week was that many groups had a small sample size, which led to highly variable results. This week we'll use a resampling method - bootstrapping - and rerun the hypothesis testing from last week. Bootstrapping essentially randomly samples and resamples from a set of observations, with replacement, and calculates some statistic or model on the aggragated measurement. We'll examine both numerically and graphically the means and differences of log price stratified by aspiration, then fuel type, and finally body-style.   \n",
    "\n",
    "## Summary\n",
    "\n",
    "## Get Data\n",
    "\n",
    "To start we'll get our automobile data from the a csv pre-loaded into the working folder. To prepare the data, we restructure a few columns to a numeric datatype and remove incomplete cases. Additionally, we'll add a log price column to our data and examine the overall structure of the data."
   ]
  },
  {
   "cell_type": "code",
   "execution_count": 1,
   "metadata": {},
   "outputs": [
    {
     "name": "stderr",
     "output_type": "stream",
     "text": [
      "Warning message in lapply(auto.price[, numcols], as.numeric):\n",
      "\"NAs introduced by coercion\"Warning message in lapply(auto.price[, numcols], as.numeric):\n",
      "\"NAs introduced by coercion\"Warning message in lapply(auto.price[, numcols], as.numeric):\n",
      "\"NAs introduced by coercion\"Warning message in lapply(auto.price[, numcols], as.numeric):\n",
      "\"NAs introduced by coercion\"Warning message in lapply(auto.price[, numcols], as.numeric):\n",
      "\"NAs introduced by coercion\""
     ]
    }
   ],
   "source": [
    "# get data\n",
    "read.auto = function(file = 'Automobile price data _Raw_.csv'){\n",
    "  ## Read the csv file\n",
    "  auto.price <- read.csv(file, header = TRUE, \n",
    "                         stringsAsFactors = FALSE)\n",
    "  \n",
    "  ## Coerce some character columns to numeric\n",
    "  numcols <- c('price', 'bore', 'stroke', 'horsepower', 'peak.rpm')\n",
    "  auto.price[, numcols] <- lapply(auto.price[, numcols], as.numeric)\n",
    "  \n",
    "  ## Remove cases or rows with missing values. In this case we keep the \n",
    "  ## rows which do not have nas. \n",
    "  auto.price[complete.cases(auto.price), ]\n",
    "}\n",
    "auto.price = read.auto()\n",
    "\n",
    "auto.price$log.price <- log(auto.price$price) # add log price"
   ]
  },
  {
   "cell_type": "markdown",
   "metadata": {},
   "source": [
    "## Graphical Wrappers\n",
    "\n",
    "The following functions help graph histograms for the 1) mean difference between groups with confidence intervals (95%) and 2) the mean log price of two groups with confidence intervals."
   ]
  },
  {
   "cell_type": "code",
   "execution_count": 2,
   "metadata": {
    "collapsed": true
   },
   "outputs": [],
   "source": [
    "# Helper Graphical Functions\n",
    "plot.hist <- function(a, maxs, mins, cols = 'difference of means', nbins = 80, p = 0.05) {\n",
    "  breaks <- seq(maxs, mins, length.out = (nbins + 1))\n",
    "  hist(a, breaks = breaks, main = paste('Hist. of', cols), xlab = cols)\n",
    "  abline(v = mean(a), lwd = 4, col = 'red')\n",
    "  abline(v = 0, lwd = 4, col = 'blue')\n",
    "  abline(v = quantile(a, probs = p/2), lty = 3, col = 'red', lwd = 3)  \n",
    "  abline(v = quantile(a, probs = (1 - p/2)), lty = 3, col = 'red', lwd = 3)\n",
    "}\n",
    "\n",
    "plot.t <- function(a, b, cols = c('pop_A', 'pop_B'), nbins = 80, p = 0.05){\n",
    "  maxs <- max(c(max(a), max(b)))\n",
    "  mins <- min(c(min(a), min(b)))\n",
    "  par(mfrow = c(2, 1))\n",
    "  plot.hist(a, maxs, mins, cols = cols[1])\n",
    "  plot.hist(b, maxs, mins, cols = cols[2])\n",
    "  par(mfrow = c(1, 1))\n",
    "}\n",
    "\n",
    "## Bootstrap the difference in means\n",
    "plot.diff <- function(a, cols = 'difference of means', nbins = 80, p = 0.05){\n",
    "  maxs <- max(a)\n",
    "  mins <- min(a)\n",
    "  plot.hist(a, maxs, mins, cols = cols[1])\n",
    "}"
   ]
  },
  {
   "cell_type": "markdown",
   "metadata": {},
   "source": [
    "## Log Price vs. Aspiration\n",
    "\n",
    "First we'll compare the means of log price between turbo and standard aspirated vehicles. \n",
    "\n",
    "### Setup data"
   ]
  },
  {
   "cell_type": "code",
   "execution_count": 5,
   "metadata": {},
   "outputs": [
    {
     "name": "stderr",
     "output_type": "stream",
     "text": [
      "Loading required package: resample\n",
      "Loading required package: simpleboot\n",
      "Warning message:\n",
      "\"package 'simpleboot' was built under R version 3.3.3\"Loading required package: boot\n",
      "Simple Bootstrap Routines (1.1-3 2008-04-30)\n"
     ]
    }
   ],
   "source": [
    "require(dplyr)\n",
    "require(resample)\n",
    "require(simpleboot)\n",
    "require(pwr)\n",
    "\n",
    "# log price vs. aspiration\n",
    "\n",
    "auto.turbo <- filter(auto.price, aspiration == \"turbo\")\n",
    "auto.standard <- filter(auto.price, aspiration == \"std\")"
   ]
  },
  {
   "cell_type": "markdown",
   "metadata": {},
   "source": [
    "### Bootstrap two means \n",
    "\n",
    "In the two histograms below, we see the frequency distribution of mean log price for both turbo and standard aspirated cars where each count is resampled mean. In the one.boot functions, we calculate 100K means from a resample of the available observations for log price on the turbo and standard groups. Since the confidence intervals don't overlap, we can reject the null hypothesis that the mean log price is the same and accept that alternative that the means are different."
   ]
  },
  {
   "cell_type": "code",
   "execution_count": 6,
   "metadata": {
    "scrolled": true
   },
   "outputs": [
    {
     "data": {
      "image/png": "[encoded data removed]",
      "text/plain": [
       "Plot with title \"Hist. of Log Price: Aspiration-Std\""
      ]
     },
     "metadata": {},
     "output_type": "display_data"
    }
   ],
   "source": [
    "# Bootstrap the mean of turbos and standard aspiration\n",
    "mean.boot.turbo <- one.boot(auto.turbo$log.price, mean, R = 100000)\n",
    "mean.boot.std <- one.boot(auto.standard$log.price, mean, R = 100000)\n",
    "plot.t(mean.boot.turbo$t, mean.boot.std$t, \n",
    "       cols = c(\"Log Price:Aspiration-Turbo\", \"Log Price: Aspiration-Std\"), nbins = 80)"
   ]
  },
  {
   "cell_type": "markdown",
   "metadata": {},
   "source": [
    "### Bootstrap mean difference\n",
    "\n",
    "Here we can also examine the difference in means between turbos and standard aspiration. Using the same bootstrap concept we calculate the difference in means for each resample interation and plot the frequency distribution. The mean difference is roughly 0.35 and the lower confidence is 0.2. Since the 95% confidence interval doesn't overlap 0, from this visual we can reject the null hypothesis that the mean difference in log price is 0.  "
   ]
  },
  {
   "cell_type": "code",
   "execution_count": 8,
   "metadata": {},
   "outputs": [
    {
     "name": "stderr",
     "output_type": "stream",
     "text": [
      "Loading required package: repr\n",
      "Warning message:\n",
      "\"package 'repr' was built under R version 3.3.3\""
     ]
    },
    {
     "data": {
      "image/png": "[encoded data removed]",
      "text/plain": [
       "Plot with title \"Hist. of Mean Difference Log Price ~ Aspiration(turbo-std)\""
      ]
     },
     "metadata": {},
     "output_type": "display_data"
    }
   ],
   "source": [
    "require(repr)\n",
    "options(repr.plot.width=6, repr.plot.height=4)\n",
    "\n",
    "two.boot.mean.asp <- two.boot(auto.turbo$log.price, auto.standard$log.price, mean, R = 100000)\n",
    "plot.diff(two.boot.mean.asp$t, cols = 'Mean Difference Log Price ~ Aspiration(turbo-std)')"
   ]
  },
  {
   "cell_type": "markdown",
   "metadata": {},
   "source": [
    "Additionally, we can verify that the distribution of the mean difference follows the central limit theorem with a Q-Q plot. Since the distribution of mean differeneces fall on a strait line, we can conclude that the bootstrapped mean differences are normally distributed."
   ]
  },
  {
   "cell_type": "code",
   "execution_count": 10,
   "metadata": {},
   "outputs": [
    {
     "data": {
      "image/png": "[encoded data removed]",
      "text/plain": [
       "Plot with title \"Quantiles of standard Normal vs.  \n",
       "       bootstrapped mean of LogPrice~Asp\""
      ]
     },
     "metadata": {},
     "output_type": "display_data"
    }
   ],
   "source": [
    "# Verfiy Normal\n",
    "options(repr.plot.width=6, repr.plot.height=6)\n",
    "qqnorm(two.boot.mean.asp$t, main = 'Quantiles of standard Normal vs. \\ \n",
    "       bootstrapped mean of LogPrice~Asp')"
   ]
  },
  {
   "cell_type": "markdown",
   "metadata": {},
   "source": [
    "### Numerical analysis\n",
    "\n",
    "We can also use Welch's t-test to determine whether the means between log price ~ aspiration are different. From the t-test below we can see that the confidence interval doesn't overlap zero and the p-value is less than 0.05. We can reject the null hypothesis that the mean log price for turbos and standards are the same.  "
   ]
  },
  {
   "cell_type": "code",
   "execution_count": 11,
   "metadata": {},
   "outputs": [
    {
     "data": {
      "text/plain": [
       "\n",
       "\tWelch Two Sample t-test\n",
       "\n",
       "data:  mean.boot.turbo$t and mean.boot.std$t\n",
       "t = 1427.8, df = 170560, p-value < 2.2e-16\n",
       "alternative hypothesis: true difference in means is not equal to 0\n",
       "95 percent confidence interval:\n",
       " 0.3381764 0.3391061\n",
       "sample estimates:\n",
       "mean of x mean of y \n",
       " 9.625976  9.287335 \n"
      ]
     },
     "metadata": {},
     "output_type": "display_data"
    }
   ],
   "source": [
    "# Welch's t-test\n",
    "t.test(mean.boot.turbo$t, mean.boot.std$t)"
   ]
  },
  {
   "cell_type": "markdown",
   "metadata": {},
   "source": [
    "### Compare to last week\n",
    "\n",
    "Last week we determined that there was as statistically significant difference in means between log price for turbos and standard aspiration, however, the power was very low due to the low sample and small difference. With bootstrapping we see that the power increased substantially (.44 -> ~1.0)"
   ]
  },
  {
   "cell_type": "code",
   "execution_count": 12,
   "metadata": {},
   "outputs": [
    {
     "data": {
      "text/plain": [
       "\n",
       "     t test power calculation \n",
       "\n",
       "             n1 = 100000\n",
       "             n2 = 100000\n",
       "              d = 0.3386412\n",
       "      sig.level = 0.05\n",
       "          power = 1\n",
       "    alternative = two.sided\n"
      ]
     },
     "metadata": {},
     "output_type": "display_data"
    }
   ],
   "source": [
    "# Test power bootstrap\n",
    "pwr.t2n.test(n1 = length(mean.boot.turbo$t), \n",
    "             n2 = length(mean.boot.std$t), \n",
    "             d = mean(mean.boot.turbo$t) - mean(mean.boot.std$t), \n",
    "             sig.level = 0.05, power = NULL,\n",
    "             alternative = \"two.sided\")"
   ]
  },
  {
   "cell_type": "code",
   "execution_count": 13,
   "metadata": {},
   "outputs": [
    {
     "data": {
      "text/plain": [
       "\n",
       "     t test power calculation \n",
       "\n",
       "             n1 = 159\n",
       "             n2 = 36\n",
       "              d = 0.3388682\n",
       "      sig.level = 0.05\n",
       "          power = 0.447117\n",
       "    alternative = two.sided\n"
      ]
     },
     "metadata": {},
     "output_type": "display_data"
    }
   ],
   "source": [
    "# Power non-bootstrapped.\n",
    "pwr.t2n.test(n1 = length(auto.price$log.price[auto.price$aspiration == \"std\"]), \n",
    "             n2 = length(auto.price$log.price[auto.price$aspiration == \"turbo\"]), \n",
    "             d = mean(auto.price$log.price[auto.price$aspiration == \"std\"]) - mean(auto.price$log.price[auto.price$aspiration == \"turbo\"]), \n",
    "             sig.level = 0.05, power = NULL,\n",
    "             alternative = \"two.sided\")"
   ]
  },
  {
   "cell_type": "markdown",
   "metadata": {},
   "source": [
    "## Log Price vs. Fuel Type\n",
    "\n",
    "Next we'll compare the means of log price between diesels and gas vehicles. "
   ]
  },
  {
   "cell_type": "code",
   "execution_count": 14,
   "metadata": {
    "collapsed": true
   },
   "outputs": [],
   "source": [
    "# log price vs. fuel type\n",
    "\n",
    "auto.gas <- filter(auto.price, fuel.type == \"gas\")\n",
    "auto.diesel <- filter(auto.price, fuel.type == \"diesel\")"
   ]
  },
  {
   "cell_type": "markdown",
   "metadata": {},
   "source": [
    "### Bootstrap two means\n",
    "\n",
    "When we look at the boot strap means between fuel and diesel, we see that the means are different, however, the confidence intervals overlap each other, therefore we can not reject the null hypothesis the mean log price for gas and diesel are different."
   ]
  },
  {
   "cell_type": "code",
   "execution_count": 15,
   "metadata": {},
   "outputs": [
    {
     "data": {
      "image/png": "[encoded data removed]",
      "text/plain": [
       "Plot with title \"Hist. of Log Price: Fuel-Diesel\""
      ]
     },
     "metadata": {},
     "output_type": "display_data"
    }
   ],
   "source": [
    "# Bootstrap the mean of gas and disel\n",
    "mean.boot.gas <- one.boot(auto.gas$log.price, mean, R = 100000)\n",
    "mean.boot.diesel <- one.boot(auto.diesel$log.price, mean, R = 100000)\n",
    "plot.t(mean.boot.gas$t, mean.boot.diesel$t, \n",
    "       cols = c(\"Log Price: Fuel-Gas\", \"Log Price: Fuel-Diesel\"), nbins = 80)"
   ]
  },
  {
   "cell_type": "markdown",
   "metadata": {},
   "source": [
    "### Bootstrap mean difference\n",
    "\n",
    "Here we  also examine the difference in mean log price between gas and diesels. Using the same bootstrap concept we calculate the difference in means for each resample interation and plot the frequency distribution. The mean difference is roughly -0.25 and the upper confidence level is -0.05. Since the 95% confidence interval doesn't overlap 0 (blue line), from this visual we can reject the null hypothesis that the mean difference in log price is 0. This conclusion differs from the two means analysis above."
   ]
  },
  {
   "cell_type": "code",
   "execution_count": 18,
   "metadata": {},
   "outputs": [
    {
     "data": {
      "image/png": "[encoded data removed]",
      "text/plain": [
       "Plot with title \"Hist. of Mean Difference Log Price ~ fuel type(gas-diesel)\""
      ]
     },
     "metadata": {},
     "output_type": "display_data"
    }
   ],
   "source": [
    "# Bootstrap the mean difference of turbos and standard apsiration\n",
    "options(repr.plot.width=6, repr.plot.height=4)\n",
    "\n",
    "two.boot.mean.fuel <- two.boot(auto.gas$log.price, auto.diesel$log.price, mean, R = 100000)\n",
    "plot.diff(two.boot.mean.fuel$t, cols = 'Mean Difference Log Price ~ fuel type(gas-diesel)')"
   ]
  },
  {
   "cell_type": "markdown",
   "metadata": {},
   "source": [
    "### Numerical analysis\n",
    "\n",
    "We can also use Welch's t-test to determine whether the means between log price ~ fuel.type are different. From the t-test below we can see that the confidence interval doesn't overlap zero and the p-value is less than 0.05. We can reject the null hypothesis that the mean log price for gas and diesel are the same.  "
   ]
  },
  {
   "cell_type": "code",
   "execution_count": 20,
   "metadata": {},
   "outputs": [
    {
     "data": {
      "text/plain": [
       "\n",
       "\tWelch Two Sample t-test\n",
       "\n",
       "data:  mean.boot.gas$t and mean.boot.diesel$t\n",
       "t = -650.6, df = 125730, p-value < 2.2e-16\n",
       "alternative hypothesis: true difference in means is not equal to 0\n",
       "95 percent confidence interval:\n",
       " -0.2325076 -0.2311109\n",
       "sample estimates:\n",
       "mean of x mean of y \n",
       " 9.325843  9.557653 \n"
      ]
     },
     "metadata": {},
     "output_type": "display_data"
    }
   ],
   "source": [
    "# Welch's t-test\n",
    "t.test(mean.boot.gas$t, mean.boot.diesel$t)"
   ]
  },
  {
   "cell_type": "markdown",
   "metadata": {},
   "source": [
    "### Compare to last week\n",
    "\n",
    "Last week, using the t-test, we determined that there was no statistical difference in means between log price for gas and diesel cars, and  the power was very low due to the low sample and small difference. With bootstrapping we see that the power increased substantially (.16 -> 1.0). From bootstrapping with a t-test, we are able to reject the null hypothesis that the difference in means between gas and diesel are the same."
   ]
  },
  {
   "cell_type": "code",
   "execution_count": 21,
   "metadata": {},
   "outputs": [
    {
     "data": {
      "text/plain": [
       "\n",
       "     t test power calculation \n",
       "\n",
       "             n1 = 100000\n",
       "             n2 = 100000\n",
       "              d = 0.2318092\n",
       "      sig.level = 0.05\n",
       "          power = 1\n",
       "    alternative = two.sided\n"
      ]
     },
     "metadata": {},
     "output_type": "display_data"
    }
   ],
   "source": [
    "# power with bootstrapping\n",
    "pwr.t2n.test(n1 = length(mean.boot.gas$t), \n",
    "             n2 = length(mean.boot.diesel$t), \n",
    "             d = mean(mean.boot.gas$t) - mean(mean.boot.diesel$t), \n",
    "             sig.level = 0.05, power = NULL,\n",
    "             alternative = \"two.sided\")"
   ]
  },
  {
   "cell_type": "code",
   "execution_count": 22,
   "metadata": {},
   "outputs": [
    {
     "data": {
      "text/plain": [
       "\n",
       "     t test power calculation \n",
       "\n",
       "             n1 = 20\n",
       "             n2 = 175\n",
       "              d = 0.2315443\n",
       "      sig.level = 0.05\n",
       "          power = 0.1642492\n",
       "    alternative = two.sided\n"
      ]
     },
     "metadata": {},
     "output_type": "display_data"
    }
   ],
   "source": [
    "# power without bootstrapping\n",
    "pwr.t2n.test(n1 = length(auto.price$log.price[auto.price$fuel.type == \"diesel\"]), \n",
    "             n2 = length(auto.price$log.price[auto.price$fuel.type == \"gas\"]), \n",
    "             d = abs(mean(auto.price$log.price[auto.price$fuel.type == \"diesel\"]) - mean(auto.price$log.price[auto.price$fuel.type == \"gas\"])), \n",
    "             sig.level = 0.05, power = NULL,\n",
    "             alternative = \"two.sided\")"
   ]
  },
  {
   "cell_type": "markdown",
   "metadata": {},
   "source": [
    "##  Log Price vs. Body Style\n",
    "\n",
    "Last week we examined log price against body style using an ANOVA and Tukey's HSD. In this analysis we'll use the aforementioned bootstrapping and plot functions in a pair-wise comparison for each body-style combination. \n",
    "\n",
    "### Main execution function\n",
    "\n",
    "The following function takes all possible body-style combinations and builds a bootstrapped mean difference plot and a t-test for each combination."
   ]
  },
  {
   "cell_type": "code",
   "execution_count": 25,
   "metadata": {
    "collapsed": true
   },
   "outputs": [],
   "source": [
    "boot.comb <- function(a = auto.price, f = auto.price$body.style, n = 100){\n",
    "  split.a <- split(a, f)        # split on body style\n",
    "  names.col <- names(split.a)   # get names\n",
    "  i <- length(split.a)\n",
    "  y <- combn(i, 2) # get all combinations\n",
    "  \n",
    "  df <- data.frame()\n",
    "    \n",
    "  #iterate and put bootstrapped means into one df.\n",
    "  for(j in 1:length(split.a)){\n",
    "      if(j==1){\n",
    "          split.a.boot <- one.boot(split.a[[j]]$log.price, mean, R = n)$t\n",
    "      } else {\n",
    "          split.a.boot <- cbind(split.a.boot, one.boot(split.a[[j]]$log.price, mean, R = n)$t)\n",
    "      }\n",
    "    \n",
    "  }\n",
    "  \n",
    "  # set layout for graphing mean differences\n",
    "  ml <- matrix(0, ncol = i-1, nrow = i-1)\n",
    "  mcol <- 1\n",
    "  mrow <- 1\n",
    "  for(l in 1:ncol(y)){\n",
    "    ml[mrow, mcol] <- l\n",
    "    if (l != ncol(y)){\n",
    "      if(y[1, l] != y[1,l+1]){\n",
    "        mcol <- 1\n",
    "        mrow <- mrow + 1 }\n",
    "      else {\n",
    "        mcol <- mcol + 1\n",
    "      }\n",
    "    }\n",
    "  }\n",
    "  \n",
    "  layout(matrix(as.numeric(matrix(ml, nrow = i-1, byrow = T)), nrow = i-1, byrow=T))\n",
    "  \n",
    "  for(x in 1:ncol(y)){\n",
    "      \n",
    "    # build t-test table\n",
    "    x.1 <- y[1,x]\n",
    "    x.2 <- y[2,x]\n",
    "    t <- t.test(split.a.boot[,x.1], split.a.boot[,x.2])\n",
    "    r <-  c(names.col[x.1],\n",
    "            names.col[x.2],\n",
    "            as.numeric(t$estimate[1]),\n",
    "            as.numeric(t$estimate[2]),\n",
    "            as.numeric(t$estimate[1]) - as.numeric(t$estimate[2]),\n",
    "            as.numeric(t$conf.int)[1],\n",
    "            as.numeric(t$conf.int)[2],\n",
    "            as.numeric(t$p.value))\n",
    "    r <- as.data.frame(t(r))\n",
    "    df <- rbind(df, r)\n",
    "    # calculate mean differences and plot\n",
    "    two.boot.mean <- two.boot(split.a[[x.1]]$log.price, split.a[[x.2]]$log.price, mean, R = n)\n",
    "    plot.diff(two.boot.mean$t, cols = paste(names.col[x.1], names.col[x.2], sep = \"-\"))\n",
    "  }\n",
    "  \n",
    "  colnames(df) <- c('body.1', 'body.2', \n",
    "                    'mean.1', 'mean.2 ',\n",
    "                    'mean.diff', 'lower', 'upper', 'p.value')\n",
    "  df[, 3:ncol(df)] <- lapply(df[,3:ncol(df)], as.character)\n",
    "  df[, 3:ncol(df)] <- lapply(df[,3:ncol(df)], as.numeric)\n",
    "  df[, 3:ncol(df)] <- lapply(df[,3:ncol(df)], round, digits = 5)\n",
    "  \n",
    "  par(mfrow =c(1,1))\n",
    "  \n",
    "  return(df)\n",
    "}"
   ]
  },
  {
   "cell_type": "markdown",
   "metadata": {},
   "source": [
    "### Numerical and Graphical\n",
    "\n",
    "When executing the funtion above we get two outputs. First we get a table generated from executing t-tests on the bootstrapped means of log price for every body style combo. Second we see a layout of histograms of the mean differences in log price for every combination. \n",
    "\n",
    "From the table we see that every combination results in mean difference that is statistically differenent because the confidence intervals don't overlap zero and the p-values are essentially zero. From the histograms of the log price mean differences, there are several combinations that conflict with the numerical t-tests. Conv-hardtop, hardtop-sedan, hardtop-wagon, and sedan wagon have confidence intervals that overlap zero (blue line inside of dotted reds) and therefore we must not reject that the mean differences are the same."
   ]
  },
  {
   "cell_type": "code",
   "execution_count": 26,
   "metadata": {},
   "outputs": [
    {
     "data": {
      "text/html": [
       "<table>\n",
       "<thead><tr><th scope=col>body.1</th><th scope=col>body.2</th><th scope=col>mean.1</th><th scope=col>mean.2 </th><th scope=col>mean.diff</th><th scope=col>lower</th><th scope=col>upper</th><th scope=col>p.value</th></tr></thead>\n",
       "<tbody>\n",
       "\t<tr><td>convertible</td><td>hardtop    </td><td>9.89099    </td><td>9.79414    </td><td> 0.09685   </td><td> 0.09500   </td><td> 0.09870   </td><td>0          </td></tr>\n",
       "\t<tr><td>convertible</td><td>hatchback  </td><td>9.89099    </td><td>9.10544    </td><td> 0.78555   </td><td> 0.78438   </td><td> 0.78672   </td><td>0          </td></tr>\n",
       "\t<tr><td>convertible</td><td>sedan      </td><td>9.89099    </td><td>9.43867    </td><td> 0.45233   </td><td> 0.45115   </td><td> 0.45350   </td><td>0          </td></tr>\n",
       "\t<tr><td>convertible</td><td>wagon      </td><td>9.89099    </td><td>9.35998    </td><td> 0.53101   </td><td> 0.52979   </td><td> 0.53224   </td><td>0          </td></tr>\n",
       "\t<tr><td>hardtop    </td><td>hatchback  </td><td>9.79414    </td><td>9.10544    </td><td> 0.68870   </td><td> 0.68720   </td><td> 0.69020   </td><td>0          </td></tr>\n",
       "\t<tr><td>hardtop    </td><td>sedan      </td><td>9.79414    </td><td>9.43867    </td><td> 0.35548   </td><td> 0.35397   </td><td> 0.35698   </td><td>0          </td></tr>\n",
       "\t<tr><td>hardtop    </td><td>wagon      </td><td>9.79414    </td><td>9.35998    </td><td> 0.43416   </td><td> 0.43262   </td><td> 0.43571   </td><td>0          </td></tr>\n",
       "\t<tr><td>hatchback  </td><td>sedan      </td><td>9.10544    </td><td>9.43867    </td><td>-0.33322   </td><td>-0.33367   </td><td>-0.33277   </td><td>0          </td></tr>\n",
       "\t<tr><td>hatchback  </td><td>wagon      </td><td>9.10544    </td><td>9.35998    </td><td>-0.25454   </td><td>-0.25510   </td><td>-0.25397   </td><td>0          </td></tr>\n",
       "\t<tr><td>sedan      </td><td>wagon      </td><td>9.43867    </td><td>9.35998    </td><td> 0.07869   </td><td> 0.07811   </td><td> 0.07926   </td><td>0          </td></tr>\n",
       "</tbody>\n",
       "</table>\n"
      ],
      "text/latex": [
       "\\begin{tabular}{r|llllllll}\n",
       " body.1 & body.2 & mean.1 & mean.2  & mean.diff & lower & upper & p.value\\\\\n",
       "\\hline\n",
       "\t convertible & hardtop     & 9.89099     & 9.79414     &  0.09685    &  0.09500    &  0.09870    & 0          \\\\\n",
       "\t convertible & hatchback   & 9.89099     & 9.10544     &  0.78555    &  0.78438    &  0.78672    & 0          \\\\\n",
       "\t convertible & sedan       & 9.89099     & 9.43867     &  0.45233    &  0.45115    &  0.45350    & 0          \\\\\n",
       "\t convertible & wagon       & 9.89099     & 9.35998     &  0.53101    &  0.52979    &  0.53224    & 0          \\\\\n",
       "\t hardtop     & hatchback   & 9.79414     & 9.10544     &  0.68870    &  0.68720    &  0.69020    & 0          \\\\\n",
       "\t hardtop     & sedan       & 9.79414     & 9.43867     &  0.35548    &  0.35397    &  0.35698    & 0          \\\\\n",
       "\t hardtop     & wagon       & 9.79414     & 9.35998     &  0.43416    &  0.43262    &  0.43571    & 0          \\\\\n",
       "\t hatchback   & sedan       & 9.10544     & 9.43867     & -0.33322    & -0.33367    & -0.33277    & 0          \\\\\n",
       "\t hatchback   & wagon       & 9.10544     & 9.35998     & -0.25454    & -0.25510    & -0.25397    & 0          \\\\\n",
       "\t sedan       & wagon       & 9.43867     & 9.35998     &  0.07869    &  0.07811    &  0.07926    & 0          \\\\\n",
       "\\end{tabular}\n"
      ],
      "text/markdown": [
       "\n",
       "body.1 | body.2 | mean.1 | mean.2  | mean.diff | lower | upper | p.value | \n",
       "|---|---|---|---|---|---|---|---|---|---|\n",
       "| convertible | hardtop     | 9.89099     | 9.79414     |  0.09685    |  0.09500    |  0.09870    | 0           | \n",
       "| convertible | hatchback   | 9.89099     | 9.10544     |  0.78555    |  0.78438    |  0.78672    | 0           | \n",
       "| convertible | sedan       | 9.89099     | 9.43867     |  0.45233    |  0.45115    |  0.45350    | 0           | \n",
       "| convertible | wagon       | 9.89099     | 9.35998     |  0.53101    |  0.52979    |  0.53224    | 0           | \n",
       "| hardtop     | hatchback   | 9.79414     | 9.10544     |  0.68870    |  0.68720    |  0.69020    | 0           | \n",
       "| hardtop     | sedan       | 9.79414     | 9.43867     |  0.35548    |  0.35397    |  0.35698    | 0           | \n",
       "| hardtop     | wagon       | 9.79414     | 9.35998     |  0.43416    |  0.43262    |  0.43571    | 0           | \n",
       "| hatchback   | sedan       | 9.10544     | 9.43867     | -0.33322    | -0.33367    | -0.33277    | 0           | \n",
       "| hatchback   | wagon       | 9.10544     | 9.35998     | -0.25454    | -0.25510    | -0.25397    | 0           | \n",
       "| sedan       | wagon       | 9.43867     | 9.35998     |  0.07869    |  0.07811    |  0.07926    | 0           | \n",
       "\n",
       "\n"
      ],
      "text/plain": [
       "   body.1      body.2    mean.1  mean.2  mean.diff lower    upper    p.value\n",
       "1  convertible hardtop   9.89099 9.79414  0.09685   0.09500  0.09870 0      \n",
       "2  convertible hatchback 9.89099 9.10544  0.78555   0.78438  0.78672 0      \n",
       "3  convertible sedan     9.89099 9.43867  0.45233   0.45115  0.45350 0      \n",
       "4  convertible wagon     9.89099 9.35998  0.53101   0.52979  0.53224 0      \n",
       "5  hardtop     hatchback 9.79414 9.10544  0.68870   0.68720  0.69020 0      \n",
       "6  hardtop     sedan     9.79414 9.43867  0.35548   0.35397  0.35698 0      \n",
       "7  hardtop     wagon     9.79414 9.35998  0.43416   0.43262  0.43571 0      \n",
       "8  hatchback   sedan     9.10544 9.43867 -0.33322  -0.33367 -0.33277 0      \n",
       "9  hatchback   wagon     9.10544 9.35998 -0.25454  -0.25510 -0.25397 0      \n",
       "10 sedan       wagon     9.43867 9.35998  0.07869   0.07811  0.07926 0      "
      ]
     },
     "metadata": {},
     "output_type": "display_data"
    },
    {
     "data": {
      "image/png": "[encoded data removed]",
      "text/plain": [
       "Plot with title \"Hist. of sedan-wagon\""
      ]
     },
     "metadata": {},
     "output_type": "display_data"
    }
   ],
   "source": [
    "options(repr.plot.width=10, repr.plot.height=10)\n",
    "g <- boot.comb(a = auto.price, f = auto.price$body.style, n =100000)\n",
    "g"
   ]
  },
  {
   "cell_type": "markdown",
   "metadata": {},
   "source": [
    "### Comparison to last week\n",
    "\n",
    "Last week when running a Tukey HSD on all combinations we saw that the only difference in means was for the hatchback-sedan. While running bootstrap of the means we see that several other combinations, such as all hatchback and three convertible combos (one overlap) we can safely reject the null hypothesis. Additionally, last week we didn't include convertibles and hardtops since they had low sample sizes and thus power. We've included them here and several have significant mean differences. "
   ]
  },
  {
   "cell_type": "code",
   "execution_count": null,
   "metadata": {
    "collapsed": true
   },
   "outputs": [],
   "source": []
  }
 ],
 "metadata": {
  "kernelspec": {
   "display_name": "R",
   "language": "R",
   "name": "ir"
  },
  "language_info": {
   "codemirror_mode": "r",
   "file_extension": ".r",
   "mimetype": "text/x-r-source",
   "name": "R",
   "pygments_lexer": "r",
   "version": "3.3.2"
  }
 },
 "nbformat": 4,
 "nbformat_minor": 2
}
